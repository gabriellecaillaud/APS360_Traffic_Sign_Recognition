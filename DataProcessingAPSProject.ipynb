{
  "cells": [
    {
      "cell_type": "code",
      "execution_count": 1,
      "metadata": {
        "id": "60CRJgLa-M77"
      },
      "outputs": [],
      "source": [
        "import matplotlib.pyplot as plt\n",
        "import numpy as np\n",
        "import torch\n",
        "from torchvision.datasets import ImageFolder\n",
        "import torchvision.transforms as transforms\n",
        "import random"
      ]
    },
    {
      "cell_type": "code",
      "execution_count": 2,
      "metadata": {
        "id": "kUYDmUAU_ons"
      },
      "outputs": [],
      "source": [
        "def add_noise(inputs,noise_factor=0.3):\n",
        "     noisy = inputs+torch.randn_like(inputs) * noise_factor\n",
        "     noisy = torch.clip(noisy,0.,1.)\n",
        "     return noisy"
      ]
    },
    {
      "cell_type": "code",
      "execution_count": 3,
      "metadata": {
        "id": "noUBxItl-jjf"
      },
      "outputs": [],
      "source": [
        "def AugmentData(path):\n",
        "  augmented_train_data = []\n",
        "  my_transform = transforms.Compose([\n",
        "    transforms.ToTensor(),\n",
        "    transforms.Resize((128,128)),\n",
        "  \n",
        "    transforms.RandomRotation(15)\n",
        "    ])\n",
        "\n",
        "  for i in range(15):\n",
        "      data = ImageFolder(root=path, transform = my_transform)\n",
        "      for j, item in enumerate(data):\n",
        "          x = random.choice([0,1])\n",
        "          (img,label) = item\n",
        "          if x == 0:\n",
        "            augmented_train_data.append((add_noise(img,0.1),label))\n",
        "          else:\n",
        "            augmented_train_data.append(item)\n",
        "  return augmented_train_data\n",
        "\n"
      ]
    },
    {
      "cell_type": "code",
      "execution_count": 4,
      "metadata": {},
      "outputs": [],
      "source": [
        "def get_label_name(classes,indice):\n",
        "  return classes[indice]"
      ]
    },
    {
      "cell_type": "code",
      "execution_count": 9,
      "metadata": {},
      "outputs": [],
      "source": [
        "classes = [\"30kmh\",\"NoRight\",\"Stop\", \"60kmh\",\"ChildrenCrossing\",\"KeepRight\"]"
      ]
    },
    {
      "cell_type": "code",
      "execution_count": 10,
      "metadata": {},
      "outputs": [],
      "source": [
        "augmented_data = AugmentData(\"Data\")"
      ]
    },
    {
      "cell_type": "code",
      "execution_count": 12,
      "metadata": {},
      "outputs": [
        {
          "name": "stdout",
          "output_type": "stream",
          "text": [
            "4365\n"
          ]
        }
      ],
      "source": [
        "print(len(augmented_data))"
      ]
    },
    {
      "cell_type": "code",
      "execution_count": 11,
      "metadata": {},
      "outputs": [],
      "source": [
        "for i in range(len(augmented_data)):\n",
        "    (img,label) = augmented_data[i]\n",
        "    plt.imsave(\"AugData/{}/img{}.png\".format(get_label_name(classes,label),i),np.array(img.transpose(0,1).transpose(1,2)))"
      ]
    }
  ],
  "metadata": {
    "colab": {
      "provenance": []
    },
    "kernelspec": {
      "display_name": "Python 3",
      "name": "python3"
    },
    "language_info": {
      "codemirror_mode": {
        "name": "ipython",
        "version": 3
      },
      "file_extension": ".py",
      "mimetype": "text/x-python",
      "name": "python",
      "nbconvert_exporter": "python",
      "pygments_lexer": "ipython3",
      "version": "3.9.13"
    }
  },
  "nbformat": 4,
  "nbformat_minor": 0
}
