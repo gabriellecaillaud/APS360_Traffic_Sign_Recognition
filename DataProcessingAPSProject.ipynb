{
  "nbformat": 4,
  "nbformat_minor": 0,
  "metadata": {
    "colab": {
      "provenance": []
    },
    "kernelspec": {
      "name": "python3",
      "display_name": "Python 3"
    },
    "language_info": {
      "name": "python"
    }
  },
  "cells": [
    {
      "cell_type": "code",
      "execution_count": 1,
      "metadata": {
        "id": "60CRJgLa-M77"
      },
      "outputs": [],
      "source": [
        "import matplotlib.pyplot as plt\n",
        "import numpy as np\n",
        "import torch\n",
        "import glob\n",
        "import cv2\n",
        "import time\n",
        "import torch\n",
        "import torch.nn as nn\n",
        "import torch.nn.functional as F\n",
        "import torch.optim as optim\n",
        "import torchvision\n",
        "from torchvision.datasets import ImageFolder\n",
        "from torch.utils.data.sampler import SubsetRandomSampler\n",
        "import torchvision.transforms as transforms\n",
        "from torch.utils.data import DataLoader\n",
        "\n",
        "from torchsummary import summary\n",
        "import random\n",
        "\n",
        "from PIL import Image"
      ]
    },
    {
      "cell_type": "code",
      "source": [
        "!git clone https://github.com/gabriellecaillaud/APS360_Traffic_Sign_Recognition.git"
      ],
      "metadata": {
        "colab": {
          "base_uri": "https://localhost:8080/"
        },
        "id": "t-Fld6AjZH0_",
        "outputId": "16134fb9-eed9-464c-8920-68245827f568"
      },
      "execution_count": 2,
      "outputs": [
        {
          "output_type": "stream",
          "name": "stdout",
          "text": [
            "fatal: destination path 'APS360_Traffic_Sign_Recognition' already exists and is not an empty directory.\n"
          ]
        }
      ]
    },
    {
      "cell_type": "code",
      "source": [
        "def add_noise(inputs,noise_factor=0.3):\n",
        "     noisy = inputs+torch.randn_like(inputs) * noise_factor\n",
        "     noisy = torch.clip(noisy,0.,1.)\n",
        "     return noisy"
      ],
      "metadata": {
        "id": "kUYDmUAU_ons"
      },
      "execution_count": 3,
      "outputs": []
    },
    {
      "cell_type": "code",
      "source": [
        "def AugmentData(path):\n",
        "  augmented_train_data = []\n",
        "  my_transform = transforms.Compose([\n",
        "    transforms.ToTensor(),\n",
        "    transforms.Resize((128,128)),\n",
        "  \n",
        "    transforms.RandomRotation(15)\n",
        "    ])\n",
        "\n",
        "  for i in range(30):\n",
        "      data = ImageFolder(root=path, transform = my_transform)\n",
        "      for j, item in enumerate(data):\n",
        "          x = random.choice([0,1])\n",
        "          (img,label) = item\n",
        "          if x == 0:\n",
        "            augmented_train_data.append((add_noise(img,0.1),label))\n",
        "          else:\n",
        "            augmented_train_data.append(item)\n",
        "  return augmented_train_data\n",
        "\n"
      ],
      "metadata": {
        "id": "noUBxItl-jjf"
      },
      "execution_count": 4,
      "outputs": []
    }
  ]
}