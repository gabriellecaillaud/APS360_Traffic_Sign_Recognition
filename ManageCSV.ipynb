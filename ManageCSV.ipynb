{
 "cells": [
  {
   "cell_type": "code",
   "execution_count": 1,
   "metadata": {},
   "outputs": [],
   "source": [
    "import pandas as pd\n",
    "import numpy as np\n",
    "import matplotlib.pyplot as plt"
   ]
  },
  {
   "cell_type": "code",
   "execution_count": 30,
   "metadata": {},
   "outputs": [],
   "source": [
    "def new_sub_path(path, separator):\n",
    "    folders = str.split(path,separator)\n",
    "\n",
    "    new_path =  folders[-2]+\"/\"+folders[-1]\n",
    "    return new_path\n",
    "\n",
    "def create_new_path_df(data,separator):\n",
    "    paths = data[\"imageUrl\"]\n",
    "    paths = paths.dropna()\n",
    "    new_paths_list = []\n",
    "    for path in paths:\n",
    "\n",
    "        new_paths_list.append(new_sub_path(path,separator))\n",
    "\n",
    "    new_paths = pd.DataFrame(new_paths_list,columns = [\"path\"])\n",
    "    return new_paths\n",
    "    "
   ]
  },
  {
   "cell_type": "code",
   "execution_count": 38,
   "metadata": {},
   "outputs": [],
   "source": [
    "data = pd.read_csv(\"Box_labels/30kmh.csv\")"
   ]
  },
  {
   "cell_type": "code",
   "execution_count": 11,
   "metadata": {},
   "outputs": [
    {
     "name": "stdout",
     "output_type": "stream",
     "text": [
      "Index(['path', '.', '_id', 'imageUrl', 'brush', 'annotation',\n",
      "       'annotation.0.regionType', 'annotation.0.id', 'annotation.0.centerX',\n",
      "       'annotation.0.centerY', 'annotation.0.width', 'annotation.0.height',\n",
      "       'annotation.0.classification', 'annotation.0.color',\n",
      "       'annotation.0.labels.0'],\n",
      "      dtype='object')\n"
     ]
    }
   ],
   "source": [
    "print(data.columns)"
   ]
  },
  {
   "cell_type": "code",
   "execution_count": 39,
   "metadata": {},
   "outputs": [],
   "source": [
    "data = data[['imageUrl','annotation.0.centerX','annotation.0.centerY','annotation.0.width','annotation.0.height','annotation.0.labels.0']]"
   ]
  },
  {
   "cell_type": "code",
   "execution_count": 48,
   "metadata": {},
   "outputs": [
    {
     "name": "stdout",
     "output_type": "stream",
     "text": [
      "501\n",
      "501\n",
      "     index  annotation.0.centerX  annotation.0.centerY  annotation.0.width  \\\n",
      "0        1              0.216821              0.401389            0.242284   \n",
      "1        2              0.704475              0.641358            0.288580   \n",
      "2        3              0.630401              0.237809            0.217593   \n",
      "3        4              0.705247              0.611265            0.212963   \n",
      "4        5              0.474537              0.647531            0.143519   \n",
      "..     ...                   ...                   ...                 ...   \n",
      "496    497              0.215278              0.551080            0.242284   \n",
      "497    498              0.492284              0.772531            0.188272   \n",
      "498    499              0.304784              0.723148            0.217593   \n",
      "499    500              0.648148              0.488580            0.246914   \n",
      "500    501              0.518519              0.798765            0.277778   \n",
      "\n",
      "     annotation.0.height annotation.0.labels.0              path  \n",
      "0               0.254630                 30kmh  30kmh/img100.png  \n",
      "1               0.299383                 30kmh  30kmh/img101.png  \n",
      "2               0.337963                 30kmh  30kmh/img102.png  \n",
      "3               0.239198                 30kmh  30kmh/img103.png  \n",
      "4               0.280864                 30kmh  30kmh/img104.png  \n",
      "..                   ...                   ...               ...  \n",
      "496             0.239198                 30kmh   30kmh/img95.png  \n",
      "497             0.314815                 30kmh   30kmh/img96.png  \n",
      "498             0.314815                 30kmh   30kmh/img97.png  \n",
      "499             0.277778                 30kmh   30kmh/img98.png  \n",
      "500             0.354938                 30kmh   30kmh/img99.png  \n",
      "\n",
      "[501 rows x 7 columns]\n"
     ]
    }
   ],
   "source": [
    "new_paths = create_new_path_df(data,'\\\\')\n",
    "print(len(new_paths))\n",
    "new_data =data[['annotation.0.centerX','annotation.0.centerY','annotation.0.width','annotation.0.height','annotation.0.labels.0']][1:len(data)].reset_index()\n",
    "print(len(new_data))\n",
    "new_data[\"path\"] = new_paths\n",
    "\n",
    "print(new_data)"
   ]
  },
  {
   "cell_type": "code",
   "execution_count": 49,
   "metadata": {},
   "outputs": [],
   "source": [
    "new_data.to_csv(\"Box_labels/new_30kmh.csv\")"
   ]
  }
 ],
 "metadata": {
  "kernelspec": {
   "display_name": "Python 3",
   "language": "python",
   "name": "python3"
  },
  "language_info": {
   "codemirror_mode": {
    "name": "ipython",
    "version": 3
   },
   "file_extension": ".py",
   "mimetype": "text/x-python",
   "name": "python",
   "nbconvert_exporter": "python",
   "pygments_lexer": "ipython3",
   "version": "3.9.13"
  },
  "orig_nbformat": 4
 },
 "nbformat": 4,
 "nbformat_minor": 2
}
